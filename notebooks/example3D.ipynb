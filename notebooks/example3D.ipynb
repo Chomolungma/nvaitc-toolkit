{
 "cells": [
  {
   "cell_type": "code",
   "execution_count": null,
   "metadata": {},
   "outputs": [],
   "source": [
    "# The MIT License (MIT)\n",
    "\n",
    "# Copyright (c) 2020 NVIDIA CORPORATION.\n",
    "\n",
    "# Permission is hereby granted, free of charge, to any person obtaining a copy of\n",
    "# this software and associated documentation files (the \"Software\"), to deal in\n",
    "# the Software without restriction, including without limitation the rights to\n",
    "# use, copy, modify, merge, publish, distribute, sublicense, and/or sell copies of\n",
    "# the Software, and to permit persons to whom the Software is furnished to do so,\n",
    "# subject to the following conditions:\n",
    "\n",
    "# The above copyright notice and this permission notice shall be included in all\n",
    "# copies or substantial portions of the Software.\n",
    "\n",
    "# THE SOFTWARE IS PROVIDED \"AS IS\", WITHOUT WARRANTY OF ANY KIND, EXPRESS OR\n",
    "# IMPLIED, INCLUDING BUT NOT LIMITED TO THE WARRANTIES OF MERCHANTABILITY, FITNESS\n",
    "# FOR A PARTICULAR PURPOSE AND NONINFRINGEMENT. IN NO EVENT SHALL THE AUTHORS OR\n",
    "# COPYRIGHT HOLDERS BE LIABLE FOR ANY CLAIM, DAMAGES OR OTHER LIABILITY, WHETHER\n",
    "# IN AN ACTION OF CONTRACT, TORT OR OTHERWISE, ARISING FROM, OUT OF OR IN\n",
    "# CONNECTION WITH THE SOFTWARE OR THE USE OR OTHER DEALINGS IN THE SOFTWARE.\n",
    "\n",
    "# ignore this (just for development)\n",
    "import sys\n",
    "sys.path.append(\"..\")"
   ]
  },
  {
   "cell_type": "code",
   "execution_count": 2,
   "metadata": {},
   "outputs": [],
   "source": [
    "import cuAugment"
   ]
  },
  {
   "cell_type": "code",
   "execution_count": 3,
   "metadata": {},
   "outputs": [
    {
     "data": {
      "text/plain": [
       "['Augmenter',\n",
       " 'Timer',\n",
       " '__builtins__',\n",
       " '__cached__',\n",
       " '__doc__',\n",
       " '__file__',\n",
       " '__loader__',\n",
       " '__name__',\n",
       " '__package__',\n",
       " '__path__',\n",
       " '__spec__',\n",
       " 'augmenter',\n",
       " 'cuAugment',\n",
       " 'distributions',\n",
       " 'templates',\n",
       " 'timer',\n",
       " 'transformations']"
      ]
     },
     "execution_count": 3,
     "metadata": {},
     "output_type": "execute_result"
    }
   ],
   "source": [
    "dir(cuAugment)"
   ]
  },
  {
   "cell_type": "code",
   "execution_count": 4,
   "metadata": {},
   "outputs": [
    {
     "name": "stdout",
     "output_type": "stream",
     "text": [
      "STATUS: elapsed time 513 ms (create checkerboard on CPU)\n"
     ]
    }
   ],
   "source": [
    "import numpy as np\n",
    "import numba\n",
    "\n",
    "@numba.jit\n",
    "def checkerboard(dimB=4, dimC=3, dimX=256, dimY=256, dimZ=256, widthX=64, widthY=64, widthZ=64, dtype=np.float32):\n",
    "    \"\"\"create a 3D checkerboard in channels_first order\"\"\"\n",
    "    \n",
    "    result = np.empty((dimB, dimC, dimX, dimY, dimZ), dtype=dtype)\n",
    "    \n",
    "    for b in range(dimB):\n",
    "        for c in range(dimC):\n",
    "            for x in range(dimX):\n",
    "                for y in range(dimY):\n",
    "                    for z in range(dimZ):\n",
    "                        result[b, c, x, y, z] = (x//widthX+y//widthY+z//widthZ + b + c) % 2\n",
    "    return result\n",
    "\n",
    "# sample a 3D checkerboard\n",
    "with cuAugment.Timer(\"create checkerboard on CPU\"):\n",
    "    X_cpu = checkerboard()"
   ]
  },
  {
   "cell_type": "code",
   "execution_count": 5,
   "metadata": {},
   "outputs": [
    {
     "name": "stdout",
     "output_type": "stream",
     "text": [
      "shape of X (4, 3, 256, 258, 259)\n",
      "shape of Y (4, 512, 516, 518, 3)\n"
     ]
    }
   ],
   "source": [
    "from numba import cuda\n",
    "\n",
    "# output batch of same batch_size, 8x resolution and different channel order\n",
    "Y_cpu = np.empty((  X_cpu.shape[0], \n",
    "                  2*X_cpu.shape[2], \n",
    "                  2*X_cpu.shape[3], \n",
    "                  2*X_cpu.shape[4], \n",
    "                    X_cpu.shape[1]), dtype=X_cpu.dtype)\n",
    "\n",
    "# let us work exclusively on the GPU\n",
    "X = cuda.to_device(X_cpu)\n",
    "Y = cuda.to_device(Y_cpu)\n",
    "\n",
    "print(\"shape of X\", X.shape)\n",
    "print(\"shape of Y\", Y.shape)"
   ]
  },
  {
   "cell_type": "code",
   "execution_count": 6,
   "metadata": {},
   "outputs": [
    {
     "name": "stdout",
     "output_type": "stream",
     "text": [
      "STATUS: augmentor code generated in module_5746131240355318214.py\n"
     ]
    }
   ],
   "source": [
    "# define the augmentor in 3D, \n",
    "# channels_first as input and channels_last as output format\n",
    "\n",
    "from cuAugment.transformations import *\n",
    "from cuAugment.distributions import *\n",
    "\n",
    "jitaug = cuAugment.Augmenter(dim=3, channel_mode='CF2CL')\n",
    "\n",
    "# change [0, 1] x [0, 1] x [0, 1] coordinates to [-1, +1] x [-1, +1] x [-1, +1]\n",
    "jitaug.add_spatial_op(CenterXYZ())\n",
    "\n",
    "# add local deformations, a random rotation, flips, translations, and a static scaling\n",
    "jitaug.add_spatial_op(DeformXYZ(UniformDistribution(-0.3, 0.3)))\n",
    "jitaug.add_spatial_op(RotateXYZ(UniformDistribution(-0.5, 0.5)))\n",
    "jitaug.add_spatial_op(FlipX(BernoulliDistribution(0.5)))\n",
    "jitaug.add_spatial_op(FlipY(BernoulliDistribution(0.5)))\n",
    "jitaug.add_spatial_op(FlipZ(BernoulliDistribution(0.5)))\n",
    "jitaug.add_spatial_op(ScaleXYZ(DiracDistribution(np.array([0.5]))))\n",
    "jitaug.add_spatial_op(TranslateX(UniformDistribution(-0.3, 0.3)))\n",
    "jitaug.add_spatial_op(TranslateY(UniformDistribution(-0.5, 0.5)))\n",
    "\n",
    "# go back to [0, 1] x [0, 1] x [0, 1] coordinates\n",
    "jitaug.add_spatial_op(UncenterXYZ())\n",
    "\n",
    "# add a few color space augmentations\n",
    "jitaug.add_color_op(ScaleColor(UniformDistribution(lower=0.1, upper=1.0)))\n",
    "jitaug.add_color_op(InvertColor01(BernoulliDistribution(0.5)))\n",
    "jitaug.add_color_op(ClipColor01())\n",
    "\n",
    "# now compile the source code\n",
    "jitaug.compile(verbose=True)"
   ]
  },
  {
   "cell_type": "code",
   "execution_count": 7,
   "metadata": {},
   "outputs": [
    {
     "name": "stdout",
     "output_type": "stream",
     "text": [
      "STATUS: elapsed time 1683 ms (augmentation)\n",
      "STATUS: elapsed time 145 ms (augmentation)\n",
      "STATUS: elapsed time 146 ms (augmentation)\n",
      "STATUS: elapsed time 145 ms (augmentation)\n",
      "STATUS: processed 7389978624 B\n"
     ]
    }
   ],
   "source": [
    "# excecute the augmentation a few times\n",
    "# (first run slower due to JIT overhead)\n",
    "\n",
    "num_repeats = 4  # set > 1 to measure without jit overhead\n",
    "seed = 3090      # seed = None results in random seeds each augmentation\n",
    "verbose = True   # provide additional info if input batch_size != output batch_size\n",
    "\n",
    "# define the value per color channel if interpolation exceeds input domain\n",
    "empty_values = np.array([0.0, 0.0, 1.0])\n",
    "\n",
    "# repeat augmentation a few times\n",
    "for _ in range(num_repeats):\n",
    "    with cuAugment.Timer('augmentation'):\n",
    "        Y = jitaug(X, Y, empty_values=empty_values, seed=seed, verbose=verbose)  \n",
    "\n",
    "# for troughput computation\n",
    "from functools import reduce\n",
    "print(\"STATUS: processed\", 4*(reduce(lambda x, y: x*y, X.shape, 1)+ \\\n",
    "                              reduce(lambda x, y: x*y, Y.shape, 1)), \"B\")"
   ]
  },
  {
   "cell_type": "code",
   "execution_count": 8,
   "metadata": {},
   "outputs": [
    {
     "name": "stdout",
     "output_type": "stream",
     "text": [
      "STATUS: elapsed time 1694 ms (copy result to CPU)\n"
     ]
    }
   ],
   "source": [
    "with cuAugment.Timer(\"copy result to CPU\"):\n",
    "    Y_cpu = Y.copy_to_host()"
   ]
  },
  {
   "cell_type": "code",
   "execution_count": 9,
   "metadata": {},
   "outputs": [],
   "source": [
    "def ortho(volume, empty_value, eps=1E-3):\n",
    "    \n",
    "    result = volume[0]\n",
    "    \n",
    "    for layer in range(1, volume.shape[0]):\n",
    "        mask = np.sum(np.square(volume[layer]-empty_values), axis=-1) > eps\n",
    "        result[mask] = volume[layer][mask]\n",
    "    \n",
    "    return result"
   ]
  },
  {
   "cell_type": "code",
   "execution_count": 10,
   "metadata": {},
   "outputs": [
    {
     "data": {
      "image/png": "[encoded data removed]",
      "text/plain": [
       "<Figure size 432x288 with 1 Axes>"
      ]
     },
     "metadata": {
      "needs_background": "light"
     },
     "output_type": "display_data"
    },
    {
     "data": {
      "image/png": "[encoded data removed]",
      "text/plain": [
       "<Figure size 432x288 with 1 Axes>"
      ]
     },
     "metadata": {
      "needs_background": "light"
     },
     "output_type": "display_data"
    },
    {
     "data": {
      "image/png": "[encoded data removed]",
      "text/plain": [
       "<Figure size 432x288 with 1 Axes>"
      ]
     },
     "metadata": {
      "needs_background": "light"
     },
     "output_type": "display_data"
    },
    {
     "data": {
      "image/png": "[encoded data removed]",
      "text/plain": [
       "<Figure size 432x288 with 1 Axes>"
      ]
     },
     "metadata": {
      "needs_background": "light"
     },
     "output_type": "display_data"
    }
   ],
   "source": [
    "import pylab as pl\n",
    "\n",
    "# plot 3D volumes using orthogonal projection\n",
    "for y in Y_cpu:\n",
    "    pl.imshow(ortho(y, empty_values))\n",
    "    pl.show()"
   ]
  },
  {
   "cell_type": "code",
   "execution_count": 11,
   "metadata": {},
   "outputs": [
    {
     "name": "stdout",
     "output_type": "stream",
     "text": [
      "\n",
      "# Copyright (c) 2020, NVIDIA CORPORATION.\n",
      "\n",
      "# NOTE: this file was generated by a machine \n",
      "\n",
      "from numba import cuda\n",
      "import math\n",
      "\n",
      "@cuda.jit\n",
      "def augment(batch_in, batch_out, empty_values, spatial_params1, spatial_params2, spatial_params3, spatial_params4, spatial_params5, spatial_params6, spatial_params7, spatial_params8, color_params0, color_params1):\n",
      "    \"\"\"fused augmentation kernel for SOL tensor manipulation\"\"\"\n",
      "\n",
      "    # fix the dimensions of the input tensor in \"channels first\" order\n",
      "    dimB_in = 0\n",
      "    dimC_in = 1\n",
      "    dimX_in = 2\n",
      "    dimY_in = 3\n",
      "    dimZ_in = 4\n",
      "\n",
      "    # fix the dimensions of the output tensor in \"channels last\" order\n",
      "    dimB_out = 0\n",
      "    dimC_out = 4\n",
      "    dimX_out = 1\n",
      "    dimY_out = 2\n",
      "    dimZ_out = 3\n",
      "\n",
      "    # set starting indices of grid-stride loops    \n",
      "    lowerB = 0 \n",
      "    lowerC = 0\n",
      "    lowerX = cuda.blockIdx.z*cuda.blockDim.z+cuda.threadIdx.z\n",
      "    lowerY = cuda.blockIdx.y*cuda.blockDim.y+cuda.threadIdx.y\n",
      "    lowerZ = cuda.blockIdx.x*cuda.blockDim.x+cuda.threadIdx.x\n",
      "    \n",
      "    # set strides of grid-stride loops\n",
      "    strideB = 1 \n",
      "    strideC = 1\n",
      "    strideX = cuda.blockDim.z*cuda.gridDim.z\n",
      "    strideY = cuda.blockDim.y*cuda.gridDim.y\n",
      "    strideZ = cuda.blockDim.x*cuda.gridDim.x\n",
      "\n",
      "    # 2+3 nested grid-stride loops follow (ignore strange indentation)\n",
      "    # for all batch indices in the output tensor    \n",
      "    for b_out in range(lowerB, batch_out.shape[dimB_out], strideB):\n",
      "        \n",
      "        # compute batch index in the input tensor in a cyclic fashion\n",
      "        b_in = b_out % batch_in.shape[dimB_in]\n",
      "        \n",
      "        spatial_param1 = spatial_params1[b_out] # locally deform x, y and z\n",
      "        spatial_param2 = spatial_params2[b_out] # rotate in random plane around origin (0,0,0)\n",
      "        spatial_param3 = spatial_params3[b_out] # flip x\n",
      "        spatial_param4 = spatial_params4[b_out] # flip y\n",
      "        spatial_param5 = spatial_params5[b_out] # flip z\n",
      "        spatial_param6 = spatial_params6[b_out] # scale x, y, and z with same factor\n",
      "        spatial_param7 = spatial_params7[b_out] # translate x\n",
      "        spatial_param8 = spatial_params8[b_out] # translate y\n",
      "        \n",
      "        color_param0 = color_params0[b_out] # scale color\n",
      "        color_param1 = color_params1[b_out] # invert color\n",
      "        \n",
      "        # for all x coordinates in the output tensor\n",
      "        for x_out in range(lowerX, batch_out.shape[dimX_out], strideX):            \n",
      "            # for all y coordinates in the output tensor\n",
      "            for y_out in range(lowerY, batch_out.shape[dimY_out], strideY):\n",
      "                # for all z coordinates in the output tensor\n",
      "                for z_out in range(lowerZ, batch_out.shape[dimZ_out], strideZ):\n",
      "                \n",
      "                        # map output dimensions into cube [0, 1]^3\n",
      "                        x = x_out/(batch_out.shape[dimX_out]-1.0)\n",
      "                        y = y_out/(batch_out.shape[dimY_out]-1.0)\n",
      "                        z = z_out/(batch_out.shape[dimZ_out]-1.0)\n",
      "\n",
      "                        #############################################\n",
      "                        # spatial transformations start here\n",
      "                        #############################################\n",
      "                        \n",
      "                        # center xyz\n",
      "                        x, y, z = 2.0*(x-0.5), 2.0*(y-0.5), 2.0*(z-0.5) \n",
      "                        \n",
      "                        # locally deform x, y and z\n",
      "                        x_, y_, z_ = x, y, z \n",
      "                        x += spatial_param1[0,0]*x_      +spatial_param1[0,1]*y_      +spatial_param1[0,2]*z_ \n",
      "                        x += spatial_param1[0,3]**2*x_*x_+spatial_param1[0,4]**2*y_*y_+spatial_param1[0,5]**2*z_*z_ \n",
      "                        x += spatial_param1[0,6]**2*x_*y_+spatial_param1[0,7]**2*x_*z_+spatial_param1[0,8]**2*y_*z_ \n",
      "                        y += spatial_param1[1,0]*x_      +spatial_param1[1,1]*y_      +spatial_param1[1,2]*z_ \n",
      "                        y += spatial_param1[1,3]**2*x_*x_+spatial_param1[1,4]**2*y_*y_+spatial_param1[1,5]**2*z_*z_ \n",
      "                        y += spatial_param1[1,6]**2*x_*y_+spatial_param1[1,7]**2*x_*z_+spatial_param1[1,8]**2*y_*z_ \n",
      "                        z += spatial_param1[2,0]*x_      +spatial_param1[2,1]*y_      +spatial_param1[2,2]*z_ \n",
      "                        z += spatial_param1[2,3]**2*x_*x_+spatial_param1[2,4]**2*y_*y_+spatial_param1[2,5]**2*z_*z_ \n",
      "                        z += spatial_param1[2,6]**2*x_*y_+spatial_param1[2,7]**2*x_*z_+spatial_param1[2,8]**2*y_*z_ \n",
      "                        \n",
      "                        # rotate in random plane around origin (0,0,0)\n",
      "                        smallest = min(batch_out.shape[dimX_out], batch_out.shape[dimY_out]) \n",
      "                        smallest = min(smallest, batch_out.shape[dimZ_out]) \n",
      "                        scale_x = batch_out.shape[dimX_out]/smallest \n",
      "                        scale_y = batch_out.shape[dimY_out]/smallest \n",
      "                        scale_z = batch_out.shape[dimZ_out]/smallest \n",
      "                        nx, ny, nz = spatial_param2[0], spatial_param2[1], spatial_param2[2] \n",
      "                        phi = math.sqrt(nx*nx+ny*ny+nz*nz) \n",
      "                        cphi, sphi = math.cos(phi), math.sin(phi) \n",
      "                        nx, ny, nz = nx/phi, ny/phi, nz/phi \n",
      "                        x_, y_, z_ = x*scale_x, y*scale_y, z*scale_z \n",
      "                        x += sphi*(-nz*y_+ny*z_)+(1-cphi)*(-(ny*ny+nz*nz)*x_+nx*ny*y_+nx*nz*z_) \n",
      "                        y += sphi*(+nz*x_-nx*z_)+(1-cphi)*(+ny*nx*x_-(nz*nz+nx*nx)*y_+ny*nz*z_) \n",
      "                        z += sphi*(-ny*x_+nx*y_)+(1-cphi)*(+nz*nx*x_+nz*ny*y_-(nx*nx+ny*ny)*z_) \n",
      "                        x, y, z = x/scale_x, y/scale_y, z/scale_z \n",
      "                        \n",
      "                        # flip x\n",
      "                        x *= -1.0 if spatial_param3[0] > 0.0 else +1.0 \n",
      "                        \n",
      "                        # flip y\n",
      "                        y *= -1.0 if spatial_param4[0] > 0.0 else +1.0 \n",
      "                        \n",
      "                        # flip z\n",
      "                        z *= -1.0 if spatial_param5[0] > 0.0 else +1.0 \n",
      "                        \n",
      "                        # scale x, y, and z with same factor\n",
      "                        x /= spatial_param6[0] \n",
      "                        y /= spatial_param6[0] \n",
      "                        z /= spatial_param6[0] \n",
      "                        \n",
      "                        # translate x\n",
      "                        x -= spatial_param7[0] \n",
      "                        \n",
      "                        # translate y\n",
      "                        y -= spatial_param8[0] \n",
      "                        \n",
      "                        # uncenter xyz\n",
      "                        x, y, z = 0.5*x+0.5, 0.5*y+0.5, 0.5*z+0.5 \n",
      "                        \n",
      "                        #############################################\n",
      "                        # spatial transformations stop here\n",
      "                        #############################################\n",
      "                                        \n",
      "                        # check if after mapping still in the cube [0, 1]^3\n",
      "                        x_inside = 0.0 <= x <= 1.0\n",
      "                        y_inside = 0.0 <= y <= 1.0\n",
      "                        z_inside = 0.0 <= z <= 1.0\n",
      "\n",
      "                        # if coordinates refer to valid regions in the input tensor\n",
      "                        if x_inside and y_inside and z_inside:\n",
      "                    \n",
      "                            # mapping cube [0, 1]^3 onto dimensions of input tensor\n",
      "                            x_in = x*(batch_in.shape[dimX_in]-1.0)\n",
      "                            y_in = y*(batch_in.shape[dimY_in]-1.0)\n",
      "                            z_in = z*(batch_in.shape[dimZ_in]-1.0) \n",
      "           \n",
      "                            # nearest neighbor interpolation for each of the 3 dimensions\n",
      "                            x_in = int(round(x_in))\n",
      "                            y_in = int(round(y_in))\n",
      "                            z_in = int(round(z_in))\n",
      "                            \n",
      "                            for c in range(lowerC, batch_in.shape[dimC_in], strideC):\n",
      "                                \n",
      "                                v = batch_in[b_in, c, x_in, y_in, z_in]\n",
      "                                \n",
      "                                #############################################\n",
      "                                # color transformations start here\n",
      "                                #############################################\n",
      "                        \n",
      "                                # scale color\n",
      "                                v *= color_param0[0] \n",
      "                        \n",
      "                                # invert color\n",
      "                                v = 1.0-v if color_param1[0] > 0 else v \n",
      "                        \n",
      "                                # clip color to [0, 1]\n",
      "                                v = max(0.0, min(1.0, v)) \n",
      "                        \n",
      "                                #############################################\n",
      "                                # color transformations stop here\n",
      "                                #############################################\n",
      "                                \n",
      "                                batch_out[b_out, x_out, y_out, z_out, c] = v\n",
      "                                \n",
      "                        # else fill in empty values definied per color channel\n",
      "                        else:\n",
      "                            for c in range(lowerC, batch_in.shape[dimC_in], strideC):\n",
      "                                batch_out[b_out, x_out, y_out, z_out, c] = empty_values[c]\n",
      "\n"
     ]
    }
   ],
   "source": [
    "# inspect the generated source code\n",
    "print(jitaug.string)"
   ]
  }
 ],
 "metadata": {
  "kernelspec": {
   "display_name": "Python 3",
   "language": "python",
   "name": "python3"
  },
  "language_info": {
   "codemirror_mode": {
    "name": "ipython",
    "version": 3
   },
   "file_extension": ".py",
   "mimetype": "text/x-python",
   "name": "python",
   "nbconvert_exporter": "python",
   "pygments_lexer": "ipython3",
   "version": "3.6.10"
  }
 },
 "nbformat": 4,
 "nbformat_minor": 4
}